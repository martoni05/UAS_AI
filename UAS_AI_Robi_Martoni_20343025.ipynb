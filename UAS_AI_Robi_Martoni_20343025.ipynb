{
  "nbformat": 4,
  "nbformat_minor": 0,
  "metadata": {
    "colab": {
      "name": "UAS-AI-Robi Martoni-20343025.ipynb",
      "provenance": [],
      "collapsed_sections": []
    },
    "kernelspec": {
      "name": "python3",
      "display_name": "Python 3"
    },
    "language_info": {
      "name": "python"
    }
  },
  "cells": [
    {
      "cell_type": "markdown",
      "source": [
        "### **Fuzzy Logic - Menentukan Rekomendasi Restoran Suatu Daerah**\n",
        "\n",
        "---\n",
        "\n",
        "> Robi Martoni\n",
        "\n",
        "> 20343025\n",
        "\n"
      ],
      "metadata": {
        "id": "WxWCe0XV4Q_8"
      }
    },
    {
      "cell_type": "code",
      "source": [
        "import numpy as np\n",
        "import pandas as pd\n",
        "import matplotlib.pyplot as plt"
      ],
      "metadata": {
        "id": "nq0csPIH5K8k"
      },
      "execution_count": null,
      "outputs": []
    },
    {
      "cell_type": "markdown",
      "source": [
        "Membaca File Dataset"
      ],
      "metadata": {
        "id": "8vlFr6L65Twv"
      }
    },
    {
      "cell_type": "code",
      "source": [
        "data = pd.read_excel(\"/content/sample_data/restoran.xlsx\")\n",
        "data.sample(8)"
      ],
      "metadata": {
        "colab": {
          "base_uri": "https://localhost:8080/",
          "height": 300
        },
        "id": "Zfza1nl-5ZYl",
        "outputId": "744ebdd3-4944-42f0-b5bb-3ca7be9f696b"
      },
      "execution_count": null,
      "outputs": [
        {
          "output_type": "execute_result",
          "data": {
            "text/plain": [
              "    id  pelayanan  makanan\n",
              "33  34         93        4\n",
              "19  20         49       10\n",
              "21  22         79        9\n",
              "84  85         18        4\n",
              "81  82         13        4\n",
              "96  97         25        3\n",
              "63  64         35        2\n",
              "90  91         98        3"
            ],
            "text/html": [
              "\n",
              "  <div id=\"df-028a46ea-88be-42c2-8368-15fd471c6502\">\n",
              "    <div class=\"colab-df-container\">\n",
              "      <div>\n",
              "<style scoped>\n",
              "    .dataframe tbody tr th:only-of-type {\n",
              "        vertical-align: middle;\n",
              "    }\n",
              "\n",
              "    .dataframe tbody tr th {\n",
              "        vertical-align: top;\n",
              "    }\n",
              "\n",
              "    .dataframe thead th {\n",
              "        text-align: right;\n",
              "    }\n",
              "</style>\n",
              "<table border=\"1\" class=\"dataframe\">\n",
              "  <thead>\n",
              "    <tr style=\"text-align: right;\">\n",
              "      <th></th>\n",
              "      <th>id</th>\n",
              "      <th>pelayanan</th>\n",
              "      <th>makanan</th>\n",
              "    </tr>\n",
              "  </thead>\n",
              "  <tbody>\n",
              "    <tr>\n",
              "      <th>33</th>\n",
              "      <td>34</td>\n",
              "      <td>93</td>\n",
              "      <td>4</td>\n",
              "    </tr>\n",
              "    <tr>\n",
              "      <th>19</th>\n",
              "      <td>20</td>\n",
              "      <td>49</td>\n",
              "      <td>10</td>\n",
              "    </tr>\n",
              "    <tr>\n",
              "      <th>21</th>\n",
              "      <td>22</td>\n",
              "      <td>79</td>\n",
              "      <td>9</td>\n",
              "    </tr>\n",
              "    <tr>\n",
              "      <th>84</th>\n",
              "      <td>85</td>\n",
              "      <td>18</td>\n",
              "      <td>4</td>\n",
              "    </tr>\n",
              "    <tr>\n",
              "      <th>81</th>\n",
              "      <td>82</td>\n",
              "      <td>13</td>\n",
              "      <td>4</td>\n",
              "    </tr>\n",
              "    <tr>\n",
              "      <th>96</th>\n",
              "      <td>97</td>\n",
              "      <td>25</td>\n",
              "      <td>3</td>\n",
              "    </tr>\n",
              "    <tr>\n",
              "      <th>63</th>\n",
              "      <td>64</td>\n",
              "      <td>35</td>\n",
              "      <td>2</td>\n",
              "    </tr>\n",
              "    <tr>\n",
              "      <th>90</th>\n",
              "      <td>91</td>\n",
              "      <td>98</td>\n",
              "      <td>3</td>\n",
              "    </tr>\n",
              "  </tbody>\n",
              "</table>\n",
              "</div>\n",
              "      <button class=\"colab-df-convert\" onclick=\"convertToInteractive('df-028a46ea-88be-42c2-8368-15fd471c6502')\"\n",
              "              title=\"Convert this dataframe to an interactive table.\"\n",
              "              style=\"display:none;\">\n",
              "        \n",
              "  <svg xmlns=\"http://www.w3.org/2000/svg\" height=\"24px\"viewBox=\"0 0 24 24\"\n",
              "       width=\"24px\">\n",
              "    <path d=\"M0 0h24v24H0V0z\" fill=\"none\"/>\n",
              "    <path d=\"M18.56 5.44l.94 2.06.94-2.06 2.06-.94-2.06-.94-.94-2.06-.94 2.06-2.06.94zm-11 1L8.5 8.5l.94-2.06 2.06-.94-2.06-.94L8.5 2.5l-.94 2.06-2.06.94zm10 10l.94 2.06.94-2.06 2.06-.94-2.06-.94-.94-2.06-.94 2.06-2.06.94z\"/><path d=\"M17.41 7.96l-1.37-1.37c-.4-.4-.92-.59-1.43-.59-.52 0-1.04.2-1.43.59L10.3 9.45l-7.72 7.72c-.78.78-.78 2.05 0 2.83L4 21.41c.39.39.9.59 1.41.59.51 0 1.02-.2 1.41-.59l7.78-7.78 2.81-2.81c.8-.78.8-2.07 0-2.86zM5.41 20L4 18.59l7.72-7.72 1.47 1.35L5.41 20z\"/>\n",
              "  </svg>\n",
              "      </button>\n",
              "      \n",
              "  <style>\n",
              "    .colab-df-container {\n",
              "      display:flex;\n",
              "      flex-wrap:wrap;\n",
              "      gap: 12px;\n",
              "    }\n",
              "\n",
              "    .colab-df-convert {\n",
              "      background-color: #E8F0FE;\n",
              "      border: none;\n",
              "      border-radius: 50%;\n",
              "      cursor: pointer;\n",
              "      display: none;\n",
              "      fill: #1967D2;\n",
              "      height: 32px;\n",
              "      padding: 0 0 0 0;\n",
              "      width: 32px;\n",
              "    }\n",
              "\n",
              "    .colab-df-convert:hover {\n",
              "      background-color: #E2EBFA;\n",
              "      box-shadow: 0px 1px 2px rgba(60, 64, 67, 0.3), 0px 1px 3px 1px rgba(60, 64, 67, 0.15);\n",
              "      fill: #174EA6;\n",
              "    }\n",
              "\n",
              "    [theme=dark] .colab-df-convert {\n",
              "      background-color: #3B4455;\n",
              "      fill: #D2E3FC;\n",
              "    }\n",
              "\n",
              "    [theme=dark] .colab-df-convert:hover {\n",
              "      background-color: #434B5C;\n",
              "      box-shadow: 0px 1px 3px 1px rgba(0, 0, 0, 0.15);\n",
              "      filter: drop-shadow(0px 1px 2px rgba(0, 0, 0, 0.3));\n",
              "      fill: #FFFFFF;\n",
              "    }\n",
              "  </style>\n",
              "\n",
              "      <script>\n",
              "        const buttonEl =\n",
              "          document.querySelector('#df-028a46ea-88be-42c2-8368-15fd471c6502 button.colab-df-convert');\n",
              "        buttonEl.style.display =\n",
              "          google.colab.kernel.accessAllowed ? 'block' : 'none';\n",
              "\n",
              "        async function convertToInteractive(key) {\n",
              "          const element = document.querySelector('#df-028a46ea-88be-42c2-8368-15fd471c6502');\n",
              "          const dataTable =\n",
              "            await google.colab.kernel.invokeFunction('convertToInteractive',\n",
              "                                                     [key], {});\n",
              "          if (!dataTable) return;\n",
              "\n",
              "          const docLinkHtml = 'Like what you see? Visit the ' +\n",
              "            '<a target=\"_blank\" href=https://colab.research.google.com/notebooks/data_table.ipynb>data table notebook</a>'\n",
              "            + ' to learn more about interactive tables.';\n",
              "          element.innerHTML = '';\n",
              "          dataTable['output_type'] = 'display_data';\n",
              "          await google.colab.output.renderOutput(dataTable, element);\n",
              "          const docLink = document.createElement('div');\n",
              "          docLink.innerHTML = docLinkHtml;\n",
              "          element.appendChild(docLink);\n",
              "        }\n",
              "      </script>\n",
              "    </div>\n",
              "  </div>\n",
              "  "
            ]
          },
          "metadata": {},
          "execution_count": 2
        }
      ]
    },
    {
      "cell_type": "markdown",
      "source": [
        "### Fuzzifikasi\n",
        "\n",
        "* Fungsi Keanggotaan Makanan\n",
        "\n",
        "  1.   Nilai makanan ≤ 3 bernilai Tidak Enak\n",
        "  2.   Nilai 4 ≤ makanan ≤ 6 bernilai Biasa\n",
        "  3.   Nilai 7 ≤ makanan ≤ 8 bernilai Enak\n",
        "  4.   Nilai makanan ≥ 9 bernilai Sangat Enak"
      ],
      "metadata": {
        "id": "lKncx9fV5x98"
      }
    },
    {
      "cell_type": "code",
      "execution_count": null,
      "metadata": {
        "id": "GRj5QT7Q4JXz"
      },
      "outputs": [],
      "source": [
        "def fuzzy_makanan(x):\n",
        "    makanan = {'Tidak Enak': 0, 'Biasa': 0, 'Enak': 0, 'Sangat Enak': 0}\n",
        "\n",
        "    a, b, c, d, e, f = 3, 4, 6, 7, 8, 9\n",
        "\n",
        "    # Garis Datar\n",
        "    if x <= a:\n",
        "        makanan['Tidak Enak'] = 1\n",
        "    if b <= x <= c:\n",
        "        makanan['Biasa'] = 1\n",
        "    if d <= x <= e:\n",
        "        makanan['Enak'] = 1\n",
        "    if x >= f:\n",
        "        makanan['Sangat Enak'] = 1\n",
        "    \n",
        "    # Garis Miring (Gradient)\n",
        "    if a < x <= b:\n",
        "        makanan['Tidak Enak'] = -(x - b) / (b - a)\n",
        "    if a < x < b:\n",
        "        makanan['Biasa'] = (x - a) / (b - a)\n",
        "    if c < x <= d:\n",
        "        makanan['Biasa'] = -(x - d) / (d - c)\n",
        "    if c < x < d:\n",
        "        makanan['Enak'] = (x - c) / (d - c)\n",
        "    if e < x < f:\n",
        "        makanan['Enak'] = -(x - f) / (f - e)\n",
        "    if e < x <= f:\n",
        "        makanan['Sangat Enak'] = (x - e) / (f - e)\n",
        "        \n",
        "    return makanan"
      ]
    },
    {
      "cell_type": "code",
      "source": [
        "plt.figure(figsize=(10, 3))\n",
        "plt.title(\"Fungsi Keanggotaan Kualitas Makanan\")\n",
        "\n",
        "plt.plot(range(11), [fuzzy_makanan(x)['Tidak Enak'] for x in range(11)], 'r')\n",
        "plt.plot(range(11), [fuzzy_makanan(x)['Biasa'] for x in range(11)], 'y')\n",
        "plt.plot(range(11), [fuzzy_makanan(x)['Enak'] for x in range(11)], 'g')\n",
        "plt.plot(range(11), [fuzzy_makanan(x)['Sangat Enak'] for x in range(11)], 'b')\n",
        "\n",
        "plt.plot(0, 0, 'r', linewidth=1.5, label='Tidak Enak')\n",
        "plt.plot(0, 0, 'y', linewidth=1.5, label='Biasa')\n",
        "plt.plot(0, 0, 'g', linewidth=1.5, label='Enak')\n",
        "plt.plot(0, 0, 'b', linewidth=1.5, label='Sangat Enak')\n",
        "\n",
        "plt.xticks(list(range(11)))\n",
        "plt.xlabel(\"value / x\")\n",
        "plt.legend()\n",
        "plt.show()"
      ],
      "metadata": {
        "colab": {
          "base_uri": "https://localhost:8080/",
          "height": 241
        },
        "id": "J1RJefbc6l5O",
        "outputId": "ec7282b6-3ded-4941-ec3a-e315d9deefa5"
      },
      "execution_count": null,
      "outputs": [
        {
          "output_type": "display_data",
          "data": {
            "text/plain": [
              "<Figure size 720x216 with 1 Axes>"
            ],
            "image/png": "[encoded data removed]"
          },
          "metadata": {
            "needs_background": "light"
          }
        }
      ]
    },
    {
      "cell_type": "markdown",
      "source": [
        "* Fungsi Keanggotaan Pelayanan\n",
        "\n",
        "  1.   Nilai pelayanan ≤ 30 bernilai Sangat Kurang\n",
        "  2.   Nilai 35 ≤ pelayanan ≤ 60 bernilai Kurang dengan nilai dari 31 - 64\n",
        "  3.   Nilai 65 ≤ pelayanan ≤ 75 bernilai Baik dengan nilai dari 61 - 79\n",
        "  4.   Nilai pelayanan ≥ 80 bernilai Sangat Baik"
      ],
      "metadata": {
        "id": "O_5pxMpB6xxT"
      }
    },
    {
      "cell_type": "code",
      "source": [
        "def fuzzy_pelayanan(x):\n",
        "    pelayanan = {'Sangat Kurang': 0, 'Kurang': 0, 'Baik': 0, 'Sangat Baik': 0}\n",
        "\n",
        "    a, b, c, d, e, f = 30, 35, 60, 65, 75, 80\n",
        "    \n",
        "    # Garis Datar\n",
        "    if x <= a:\n",
        "        pelayanan['Sangat Kurang'] = 1\n",
        "    if b <= x <= c:\n",
        "        pelayanan['Kurang'] = 1\n",
        "    if d <= x <= e:\n",
        "        pelayanan['Baik'] = 1\n",
        "    if x >= f:\n",
        "        pelayanan['Sangat Baik'] = 1\n",
        "\n",
        "    # Garis Miring (Gradient)   \n",
        "    if a < x <= b:\n",
        "        pelayanan['Sangat Kurang'] = -(x - b) / (b - a)\n",
        "    if a < x < b:\n",
        "        pelayanan['Kurang'] = (x - a) / (b - a)\n",
        "    if c < x <= d:\n",
        "        pelayanan['Kurang'] = -(x - d) / (d - c)\n",
        "    if c < x < d:\n",
        "        pelayanan['Baik'] = (x - c) / (d - c)\n",
        "    if e < x < f:\n",
        "        pelayanan['Baik'] = -(x - f) / (f - e)\n",
        "    if e < x <= f:\n",
        "        pelayanan['Sangat Baik'] = (x - e) / (f - e)\n",
        "        \n",
        "    return pelayanan"
      ],
      "metadata": {
        "id": "bOCcOQAr6ryh"
      },
      "execution_count": null,
      "outputs": []
    },
    {
      "cell_type": "code",
      "source": [
        "plt.figure(figsize=(12, 3))\n",
        "plt.title(\"Fungsi Keanggotaan Kualitas Pelayanan\")\n",
        "\n",
        "plt.plot(range(101), [fuzzy_pelayanan(x)['Sangat Kurang'] for x in range(101)], 'y')\n",
        "plt.plot(range(101), [fuzzy_pelayanan(x)['Kurang'] for x in range(101)], 'r')\n",
        "plt.plot(range(101), [fuzzy_pelayanan(x)['Baik'] for x in range(101)], 'g')\n",
        "plt.plot(range(101), [fuzzy_pelayanan(x)['Sangat Baik'] for x in range(101)], 'b')\n",
        "\n",
        "plt.plot(0, 0, 'y', linewidth=1.5, label='Sangat Kurang')\n",
        "plt.plot(0, 0, 'r', linewidth=1.5, label='Kurang')\n",
        "plt.plot(0, 0, 'g', linewidth=1.5, label='Baik')\n",
        "plt.plot(0, 0, 'b', linewidth=1.5, label='Sangat Baik')\n",
        "\n",
        "plt.xticks(np.arange(0, 105, 5.0))\n",
        "plt.xlabel(\"value / x\")\n",
        "plt.legend()\n",
        "plt.show()"
      ],
      "metadata": {
        "colab": {
          "base_uri": "https://localhost:8080/",
          "height": 241
        },
        "id": "CLsxHYil7SSJ",
        "outputId": "ab99f3e3-f0c7-4c13-a79e-2d7c81364f9a"
      },
      "execution_count": null,
      "outputs": [
        {
          "output_type": "display_data",
          "data": {
            "text/plain": [
              "<Figure size 864x216 with 1 Axes>"
            ],
            "image/png": "[encoded data removed]"
          },
          "metadata": {
            "needs_background": "light"
          }
        }
      ]
    },
    {
      "cell_type": "markdown",
      "source": [
        "* Proses Fuzzifikasi"
      ],
      "metadata": {
        "id": "cv4LWgNL7iv6"
      }
    },
    {
      "cell_type": "code",
      "source": [
        "fuzzify = []\n",
        "\n",
        "for pelayanan, makanan in zip(data['pelayanan'], data['makanan']):\n",
        "    fuzzy = {'Pelayanan': 0, 'Makanan': 0}\n",
        "\n",
        "    fuzzy['Pelayanan'] = fuzzy_pelayanan(pelayanan)\n",
        "    fuzzy['Makanan'] = fuzzy_makanan(makanan)\n",
        "\n",
        "    fuzzify.append(fuzzy)"
      ],
      "metadata": {
        "id": "jdKvlNNy7msL"
      },
      "execution_count": null,
      "outputs": []
    },
    {
      "cell_type": "code",
      "source": [
        "print(\"Contoh Hasil Fuzzifikasi :\\n\")\n",
        "for i in range(0, 20, 2):\n",
        "    print(\"Pelayanan :\", fuzzify[i]['Pelayanan'])\n",
        "    print(\"Makanan   :\", fuzzify[i]['Makanan'], end=\"\\n\\n\")"
      ],
      "metadata": {
        "colab": {
          "base_uri": "https://localhost:8080/"
        },
        "id": "z5Y2X4e77oyV",
        "outputId": "61f855fc-5c5f-4a42-8c5d-a64f1c52e15e"
      },
      "execution_count": null,
      "outputs": [
        {
          "output_type": "stream",
          "name": "stdout",
          "text": [
            "Contoh Hasil Fuzzifikasi :\n",
            "\n",
            "Pelayanan : {'Sangat Kurang': 0, 'Kurang': 1, 'Baik': 0, 'Sangat Baik': 0}\n",
            "Makanan   : {'Tidak Enak': 0, 'Biasa': 0.0, 'Enak': 1, 'Sangat Enak': 0}\n",
            "\n",
            "Pelayanan : {'Sangat Kurang': 0, 'Kurang': 0, 'Baik': 0, 'Sangat Baik': 1}\n",
            "Makanan   : {'Tidak Enak': 1, 'Biasa': 0, 'Enak': 0, 'Sangat Enak': 0}\n",
            "\n",
            "Pelayanan : {'Sangat Kurang': 1, 'Kurang': 0, 'Baik': 0, 'Sangat Baik': 0}\n",
            "Makanan   : {'Tidak Enak': 0.0, 'Biasa': 1, 'Enak': 0, 'Sangat Enak': 0}\n",
            "\n",
            "Pelayanan : {'Sangat Kurang': 0, 'Kurang': 0.8, 'Baik': 0.2, 'Sangat Baik': 0}\n",
            "Makanan   : {'Tidak Enak': 0, 'Biasa': 0, 'Enak': 1, 'Sangat Enak': 0}\n",
            "\n",
            "Pelayanan : {'Sangat Kurang': 0, 'Kurang': 1, 'Baik': 0, 'Sangat Baik': 0}\n",
            "Makanan   : {'Tidak Enak': 1, 'Biasa': 0, 'Enak': 0, 'Sangat Enak': 0}\n",
            "\n",
            "Pelayanan : {'Sangat Kurang': 1, 'Kurang': 0, 'Baik': 0, 'Sangat Baik': 0}\n",
            "Makanan   : {'Tidak Enak': 0, 'Biasa': 1, 'Enak': 0, 'Sangat Enak': 0}\n",
            "\n",
            "Pelayanan : {'Sangat Kurang': 0, 'Kurang': 0, 'Baik': 0, 'Sangat Baik': 1.0}\n",
            "Makanan   : {'Tidak Enak': 1, 'Biasa': 0, 'Enak': 0, 'Sangat Enak': 0}\n",
            "\n",
            "Pelayanan : {'Sangat Kurang': 0, 'Kurang': 0, 'Baik': 0.4, 'Sangat Baik': 0.6}\n",
            "Makanan   : {'Tidak Enak': 0, 'Biasa': 1, 'Enak': 0, 'Sangat Enak': 0}\n",
            "\n",
            "Pelayanan : {'Sangat Kurang': 0, 'Kurang': 0, 'Baik': 1, 'Sangat Baik': 0}\n",
            "Makanan   : {'Tidak Enak': 1, 'Biasa': 0, 'Enak': 0, 'Sangat Enak': 0}\n",
            "\n",
            "Pelayanan : {'Sangat Kurang': 0, 'Kurang': 1, 'Baik': 0, 'Sangat Baik': 0}\n",
            "Makanan   : {'Tidak Enak': 1, 'Biasa': 0, 'Enak': 0, 'Sangat Enak': 0}\n",
            "\n"
          ]
        }
      ]
    },
    {
      "cell_type": "markdown",
      "source": [
        "### Aturan Dasar\n",
        "Fuzzy Set Rules (Konjungsi)\n",
        "\n",
        "![image.png](data:image/png;base64,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)"
      ],
      "metadata": {
        "id": "sPbqqOS9-kiK"
      }
    },
    {
      "cell_type": "code",
      "source": [
        "# Untuk setiap rules merupakan Konjungsi.\n",
        "# Contoh: IF Makanan = Tidak Enak (1) Λ Pelayanan = Sangat Kurang (1) THEN Status = Tidak Direkomendasikan (1)\n",
        "\n",
        "fuzzy_set_rules = {\n",
        "    ('Tidak Enak', 'Sangat Kurang') : 'Tidak Direkomendasikan',\n",
        "    ('Tidak Enak', 'Kurang') : 'Tidak Direkomendasikan',\n",
        "    ('Tidak Enak', 'Baik') : 'Tidak Direkomendasikan',\n",
        "    ('Tidak Enak', 'Sangat Baik') : 'Tidak Direkomendasikan',\n",
        "    ('Biasa', 'Sangat Kurang') : 'Tidak Direkomendasikan',\n",
        "    ('Biasa', 'Kurang') : 'Tidak Direkomendasikan',\n",
        "    ('Biasa', 'Baik') : 'Direkomendasikan',\n",
        "    ('Biasa', 'Sangat Baik') : 'Direkomendasikan',\n",
        "    ('Enak', 'Sangat Kurang') : 'Tidak Direkomendasikan',\n",
        "    ('Enak', 'Kurang') : 'Direkomendasikan',\n",
        "    ('Enak', 'Baik') : 'Direkomendasikan',\n",
        "    ('Enak', 'Sangat Baik') : 'Sangat Direkomendasikan',\n",
        "    ('Sangat Enak', 'Sangat Kurang') : 'Tidak Direkomendasikan',\n",
        "    ('Sangat Enak', 'Kurang') : 'Direkomendasikan',\n",
        "    ('Sangat Enak', 'Baik') : 'Sangat Direkomendasikan',\n",
        "    ('Sangat Enak', 'Sangat Baik') : 'Sangat Direkomendasikan',\n",
        "}"
      ],
      "metadata": {
        "id": "0uesxbUZ_OCu"
      },
      "execution_count": null,
      "outputs": []
    },
    {
      "cell_type": "markdown",
      "source": [
        "Proses Aturan Dasar"
      ],
      "metadata": {
        "id": "55hsoxqQ_Sfb"
      }
    },
    {
      "cell_type": "code",
      "source": [
        "inference_result = []\n",
        "\n",
        "def inference(fuzzed):\n",
        "    result = {'Tidak Direkomendasikan': 0, \"Direkomendasikan\": 0, \"Sangat Direkomendasikan\": 0}\n",
        "\n",
        "    for Pelayanan in fuzzed['Pelayanan'].keys():\n",
        "        for Makanan in fuzzed['Makanan'].keys():\n",
        "            min_value = min(fuzzed['Makanan'][Makanan], fuzzed['Pelayanan'][Pelayanan])\n",
        "\n",
        "            # Proses Conjunction Sesuai Fuzzy Rules pada variabel fuzzy_set_rules\n",
        "            output = fuzzy_set_rules[(Makanan, Pelayanan)]\n",
        "\n",
        "            if min_value > result[output]:\n",
        "               result[output] = min_value\n",
        "\n",
        "    return result"
      ],
      "metadata": {
        "id": "OJnqTH7W_V3Y"
      },
      "execution_count": null,
      "outputs": []
    },
    {
      "cell_type": "code",
      "source": [
        "for fuzzed in fuzzify:\n",
        "    inference_result.append(inference(fuzzed))\n",
        "\n",
        "print(\"Contoh Hasil Inferensi :\\n\")\n",
        "for i in range(0, 40, 2):\n",
        "    print(inference_result[i])"
      ],
      "metadata": {
        "colab": {
          "base_uri": "https://localhost:8080/"
        },
        "id": "Zjaf2Hk9_ZVN",
        "outputId": "bf0c16e5-cddd-4537-84b3-da6607fbe218"
      },
      "execution_count": null,
      "outputs": [
        {
          "output_type": "stream",
          "name": "stdout",
          "text": [
            "Contoh Hasil Inferensi :\n",
            "\n",
            "{'Tidak Direkomendasikan': 0, 'Direkomendasikan': 1, 'Sangat Direkomendasikan': 0}\n",
            "{'Tidak Direkomendasikan': 1, 'Direkomendasikan': 0, 'Sangat Direkomendasikan': 0}\n",
            "{'Tidak Direkomendasikan': 1, 'Direkomendasikan': 0, 'Sangat Direkomendasikan': 0}\n",
            "{'Tidak Direkomendasikan': 0, 'Direkomendasikan': 0.8, 'Sangat Direkomendasikan': 0}\n",
            "{'Tidak Direkomendasikan': 1, 'Direkomendasikan': 0, 'Sangat Direkomendasikan': 0}\n",
            "{'Tidak Direkomendasikan': 1, 'Direkomendasikan': 0, 'Sangat Direkomendasikan': 0}\n",
            "{'Tidak Direkomendasikan': 1, 'Direkomendasikan': 0, 'Sangat Direkomendasikan': 0}\n",
            "{'Tidak Direkomendasikan': 0, 'Direkomendasikan': 0.6, 'Sangat Direkomendasikan': 0}\n",
            "{'Tidak Direkomendasikan': 1, 'Direkomendasikan': 0, 'Sangat Direkomendasikan': 0}\n",
            "{'Tidak Direkomendasikan': 1, 'Direkomendasikan': 0, 'Sangat Direkomendasikan': 0}\n",
            "{'Tidak Direkomendasikan': 1, 'Direkomendasikan': 0, 'Sangat Direkomendasikan': 0}\n",
            "{'Tidak Direkomendasikan': 1, 'Direkomendasikan': 0, 'Sangat Direkomendasikan': 0}\n",
            "{'Tidak Direkomendasikan': 0, 'Direkomendasikan': 0.8, 'Sangat Direkomendasikan': 0.2}\n",
            "{'Tidak Direkomendasikan': 0, 'Direkomendasikan': 1, 'Sangat Direkomendasikan': 0}\n",
            "{'Tidak Direkomendasikan': 1, 'Direkomendasikan': 0, 'Sangat Direkomendasikan': 0}\n",
            "{'Tidak Direkomendasikan': 0, 'Direkomendasikan': 0, 'Sangat Direkomendasikan': 1.0}\n",
            "{'Tidak Direkomendasikan': 0.4, 'Direkomendasikan': 0.6, 'Sangat Direkomendasikan': 0}\n",
            "{'Tidak Direkomendasikan': 1, 'Direkomendasikan': 0, 'Sangat Direkomendasikan': 0}\n",
            "{'Tidak Direkomendasikan': 0.8, 'Direkomendasikan': 0, 'Sangat Direkomendasikan': 0}\n",
            "{'Tidak Direkomendasikan': 0, 'Direkomendasikan': 1, 'Sangat Direkomendasikan': 0}\n"
          ]
        }
      ]
    },
    {
      "cell_type": "markdown",
      "source": [
        "### Defuzzifikasi"
      ],
      "metadata": {
        "id": "uVEQmI3Y_k2o"
      }
    },
    {
      "cell_type": "code",
      "source": [
        "plt.figure(figsize=(8, 3))\n",
        "plt.title(\"Sugeno Model Singleton\")\n",
        "\n",
        "plt.plot([50, 50], [0, 1], label=\"Tidak Direkomendasikan\")\n",
        "plt.plot([75, 75], [0, 1], label=\"Direkomendasikan\")\n",
        "plt.plot([100, 100], [0, 1], label=\"Sangat Direkomendasikan\")\n",
        "plt.xticks(np.arange(0, 110, 10.0))\n",
        "plt.legend()\n",
        "plt.show()"
      ],
      "metadata": {
        "colab": {
          "base_uri": "https://localhost:8080/",
          "height": 227
        },
        "id": "zatH3IOC_pBK",
        "outputId": "52497271-8a52-4bfc-b297-9c4b603d4afa"
      },
      "execution_count": null,
      "outputs": [
        {
          "output_type": "display_data",
          "data": {
            "text/plain": [
              "<Figure size 576x216 with 1 Axes>"
            ],
            "image/png": "[encoded data removed]"
          },
          "metadata": {
            "needs_background": "light"
          }
        }
      ]
    },
    {
      "cell_type": "code",
      "source": [
        "deffuzy = {'Tidak Direkomendasikan': 50, \"Direkomendasikan\": 75, \"Sangat Direkomendasikan\": 100}\n",
        "\n",
        "def defuzzification(inference, deffuzy):\n",
        "    numerator, denominator = 0, 0\n",
        "    \n",
        "    for output in deffuzy.keys():\n",
        "        numerator += inference[output] * deffuzy[output]\n",
        "        denominator += inference[output]\n",
        "        \n",
        "    return numerator/denominator\n",
        "\n",
        "final = []\n",
        "\n",
        "for inference in inference_result:\n",
        "    final.append(defuzzification(inference, deffuzy))"
      ],
      "metadata": {
        "id": "suLyqj51_se-"
      },
      "execution_count": null,
      "outputs": []
    },
    {
      "cell_type": "code",
      "source": [
        "\n",
        "\n",
        "print(\"Contoh Hasil Defuzifikasi:\\n\")\n",
        "for i in range(0, 40, 5):\n",
        "    print(f'Data Ke-{i+1} = {final[i]}')"
      ],
      "metadata": {
        "colab": {
          "base_uri": "https://localhost:8080/"
        },
        "id": "abRhdEeR_w0d",
        "outputId": "19531b58-39a9-461e-e6e4-f63a00d64180"
      },
      "execution_count": null,
      "outputs": [
        {
          "output_type": "stream",
          "name": "stdout",
          "text": [
            "Contoh Hasil Defuzifikasi:\n",
            "\n",
            "Data Ke-1 = 75.0\n",
            "Data Ke-6 = 75.0\n",
            "Data Ke-11 = 50.0\n",
            "Data Ke-16 = 75.0\n",
            "Data Ke-21 = 50.0\n",
            "Data Ke-26 = 50.0\n",
            "Data Ke-31 = 100.0\n",
            "Data Ke-36 = 50.0\n"
          ]
        }
      ]
    },
    {
      "cell_type": "markdown",
      "source": [
        "### **Hasil**"
      ],
      "metadata": {
        "id": "VO4OmXvU_16F"
      }
    },
    {
      "cell_type": "code",
      "source": [
        "data['result'] = final\n",
        "data = data.sort_values(by='result', ascending=False)[:10]\n",
        "\n",
        "data['id'].to_excel('peringkat.xls', index=False, header=False)  \n",
        "data"
      ],
      "metadata": {
        "colab": {
          "base_uri": "https://localhost:8080/",
          "height": 418
        },
        "id": "rm-f5fEGACwm",
        "outputId": "7685eb37-b3b3-4d5b-e267-341664a4ec81"
      },
      "execution_count": null,
      "outputs": [
        {
          "output_type": "stream",
          "name": "stderr",
          "text": [
            "/usr/local/lib/python3.7/dist-packages/ipykernel_launcher.py:4: FutureWarning: As the xlwt package is no longer maintained, the xlwt engine will be removed in a future version of pandas. This is the only engine in pandas that supports writing in the xls format. Install openpyxl and write to an xlsx file instead. You can set the option io.excel.xls.writer to 'xlwt' to silence this warning. While this option is deprecated and will also raise a warning, it can be globally set and the warning suppressed.\n",
            "  after removing the cwd from sys.path.\n"
          ]
        },
        {
          "output_type": "execute_result",
          "data": {
            "text/plain": [
              "    id  pelayanan  makanan  result\n",
              "23  24        100        9   100.0\n",
              "41  42         94       10   100.0\n",
              "30  31         74        9   100.0\n",
              "78  79         87        9   100.0\n",
              "68  69         86       10   100.0\n",
              "21  22         79        9   100.0\n",
              "53  54         64       10    95.0\n",
              "69  70         78        8    90.0\n",
              "62  63         78        7    90.0\n",
              "24  25         61       10    80.0"
            ],
            "text/html": [
              "\n",
              "  <div id=\"df-fe7f8ad9-c241-446e-88f1-0a34b1d4cd4e\">\n",
              "    <div class=\"colab-df-container\">\n",
              "      <div>\n",
              "<style scoped>\n",
              "    .dataframe tbody tr th:only-of-type {\n",
              "        vertical-align: middle;\n",
              "    }\n",
              "\n",
              "    .dataframe tbody tr th {\n",
              "        vertical-align: top;\n",
              "    }\n",
              "\n",
              "    .dataframe thead th {\n",
              "        text-align: right;\n",
              "    }\n",
              "</style>\n",
              "<table border=\"1\" class=\"dataframe\">\n",
              "  <thead>\n",
              "    <tr style=\"text-align: right;\">\n",
              "      <th></th>\n",
              "      <th>id</th>\n",
              "      <th>pelayanan</th>\n",
              "      <th>makanan</th>\n",
              "      <th>result</th>\n",
              "    </tr>\n",
              "  </thead>\n",
              "  <tbody>\n",
              "    <tr>\n",
              "      <th>23</th>\n",
              "      <td>24</td>\n",
              "      <td>100</td>\n",
              "      <td>9</td>\n",
              "      <td>100.0</td>\n",
              "    </tr>\n",
              "    <tr>\n",
              "      <th>41</th>\n",
              "      <td>42</td>\n",
              "      <td>94</td>\n",
              "      <td>10</td>\n",
              "      <td>100.0</td>\n",
              "    </tr>\n",
              "    <tr>\n",
              "      <th>30</th>\n",
              "      <td>31</td>\n",
              "      <td>74</td>\n",
              "      <td>9</td>\n",
              "      <td>100.0</td>\n",
              "    </tr>\n",
              "    <tr>\n",
              "      <th>78</th>\n",
              "      <td>79</td>\n",
              "      <td>87</td>\n",
              "      <td>9</td>\n",
              "      <td>100.0</td>\n",
              "    </tr>\n",
              "    <tr>\n",
              "      <th>68</th>\n",
              "      <td>69</td>\n",
              "      <td>86</td>\n",
              "      <td>10</td>\n",
              "      <td>100.0</td>\n",
              "    </tr>\n",
              "    <tr>\n",
              "      <th>21</th>\n",
              "      <td>22</td>\n",
              "      <td>79</td>\n",
              "      <td>9</td>\n",
              "      <td>100.0</td>\n",
              "    </tr>\n",
              "    <tr>\n",
              "      <th>53</th>\n",
              "      <td>54</td>\n",
              "      <td>64</td>\n",
              "      <td>10</td>\n",
              "      <td>95.0</td>\n",
              "    </tr>\n",
              "    <tr>\n",
              "      <th>69</th>\n",
              "      <td>70</td>\n",
              "      <td>78</td>\n",
              "      <td>8</td>\n",
              "      <td>90.0</td>\n",
              "    </tr>\n",
              "    <tr>\n",
              "      <th>62</th>\n",
              "      <td>63</td>\n",
              "      <td>78</td>\n",
              "      <td>7</td>\n",
              "      <td>90.0</td>\n",
              "    </tr>\n",
              "    <tr>\n",
              "      <th>24</th>\n",
              "      <td>25</td>\n",
              "      <td>61</td>\n",
              "      <td>10</td>\n",
              "      <td>80.0</td>\n",
              "    </tr>\n",
              "  </tbody>\n",
              "</table>\n",
              "</div>\n",
              "      <button class=\"colab-df-convert\" onclick=\"convertToInteractive('df-fe7f8ad9-c241-446e-88f1-0a34b1d4cd4e')\"\n",
              "              title=\"Convert this dataframe to an interactive table.\"\n",
              "              style=\"display:none;\">\n",
              "        \n",
              "  <svg xmlns=\"http://www.w3.org/2000/svg\" height=\"24px\"viewBox=\"0 0 24 24\"\n",
              "       width=\"24px\">\n",
              "    <path d=\"M0 0h24v24H0V0z\" fill=\"none\"/>\n",
              "    <path d=\"M18.56 5.44l.94 2.06.94-2.06 2.06-.94-2.06-.94-.94-2.06-.94 2.06-2.06.94zm-11 1L8.5 8.5l.94-2.06 2.06-.94-2.06-.94L8.5 2.5l-.94 2.06-2.06.94zm10 10l.94 2.06.94-2.06 2.06-.94-2.06-.94-.94-2.06-.94 2.06-2.06.94z\"/><path d=\"M17.41 7.96l-1.37-1.37c-.4-.4-.92-.59-1.43-.59-.52 0-1.04.2-1.43.59L10.3 9.45l-7.72 7.72c-.78.78-.78 2.05 0 2.83L4 21.41c.39.39.9.59 1.41.59.51 0 1.02-.2 1.41-.59l7.78-7.78 2.81-2.81c.8-.78.8-2.07 0-2.86zM5.41 20L4 18.59l7.72-7.72 1.47 1.35L5.41 20z\"/>\n",
              "  </svg>\n",
              "      </button>\n",
              "      \n",
              "  <style>\n",
              "    .colab-df-container {\n",
              "      display:flex;\n",
              "      flex-wrap:wrap;\n",
              "      gap: 12px;\n",
              "    }\n",
              "\n",
              "    .colab-df-convert {\n",
              "      background-color: #E8F0FE;\n",
              "      border: none;\n",
              "      border-radius: 50%;\n",
              "      cursor: pointer;\n",
              "      display: none;\n",
              "      fill: #1967D2;\n",
              "      height: 32px;\n",
              "      padding: 0 0 0 0;\n",
              "      width: 32px;\n",
              "    }\n",
              "\n",
              "    .colab-df-convert:hover {\n",
              "      background-color: #E2EBFA;\n",
              "      box-shadow: 0px 1px 2px rgba(60, 64, 67, 0.3), 0px 1px 3px 1px rgba(60, 64, 67, 0.15);\n",
              "      fill: #174EA6;\n",
              "    }\n",
              "\n",
              "    [theme=dark] .colab-df-convert {\n",
              "      background-color: #3B4455;\n",
              "      fill: #D2E3FC;\n",
              "    }\n",
              "\n",
              "    [theme=dark] .colab-df-convert:hover {\n",
              "      background-color: #434B5C;\n",
              "      box-shadow: 0px 1px 3px 1px rgba(0, 0, 0, 0.15);\n",
              "      filter: drop-shadow(0px 1px 2px rgba(0, 0, 0, 0.3));\n",
              "      fill: #FFFFFF;\n",
              "    }\n",
              "  </style>\n",
              "\n",
              "      <script>\n",
              "        const buttonEl =\n",
              "          document.querySelector('#df-fe7f8ad9-c241-446e-88f1-0a34b1d4cd4e button.colab-df-convert');\n",
              "        buttonEl.style.display =\n",
              "          google.colab.kernel.accessAllowed ? 'block' : 'none';\n",
              "\n",
              "        async function convertToInteractive(key) {\n",
              "          const element = document.querySelector('#df-fe7f8ad9-c241-446e-88f1-0a34b1d4cd4e');\n",
              "          const dataTable =\n",
              "            await google.colab.kernel.invokeFunction('convertToInteractive',\n",
              "                                                     [key], {});\n",
              "          if (!dataTable) return;\n",
              "\n",
              "          const docLinkHtml = 'Like what you see? Visit the ' +\n",
              "            '<a target=\"_blank\" href=https://colab.research.google.com/notebooks/data_table.ipynb>data table notebook</a>'\n",
              "            + ' to learn more about interactive tables.';\n",
              "          element.innerHTML = '';\n",
              "          dataTable['output_type'] = 'display_data';\n",
              "          await google.colab.output.renderOutput(dataTable, element);\n",
              "          const docLink = document.createElement('div');\n",
              "          docLink.innerHTML = docLinkHtml;\n",
              "          element.appendChild(docLink);\n",
              "        }\n",
              "      </script>\n",
              "    </div>\n",
              "  </div>\n",
              "  "
            ]
          },
          "metadata": {},
          "execution_count": 15
        }
      ]
    }
  ]
}